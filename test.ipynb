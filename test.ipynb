{
 "cells": [
  {
   "cell_type": "code",
   "execution_count": 14,
   "metadata": {},
   "outputs": [],
   "source": [
    "import yaml\n",
    "import numpy as np"
   ]
  },
  {
   "cell_type": "code",
   "execution_count": 36,
   "metadata": {},
   "outputs": [],
   "source": [
    "with open(\"Customers_test.yml\") as file:\n",
    "    customers_data = yaml.safe_load(file)"
   ]
  },
  {
   "cell_type": "code",
   "execution_count": 42,
   "metadata": {},
   "outputs": [
    {
     "data": {
      "text/plain": [
       "array([0., 0., 1.])"
      ]
     },
     "execution_count": 42,
     "metadata": {},
     "output_type": "execute_result"
    }
   ],
   "source": [
    "def get_customer_probability(customers_data, customer):\n",
    "    if(customer == 'All'):\n",
    "        customers_propability = np.array([])\n",
    "        for cus in list(customers_data.keys())[1:]:\n",
    "            customers_propability = np.append(customers_propability, customers_data[cus]['probability'])\n",
    "        \n",
    "    else:\n",
    "        customers_propability = np.zeros(len(list(customers_data.keys())[1:]))\n",
    "        idx = list(customers_data.keys())[1:].index(customer)\n",
    "        customers_propability[idx] = 1\n",
    "    \n",
    "    return customers_propability\n",
    "\n",
    "\n",
    "get_customer_probability(customers_data, \"school\")"
   ]
  },
  {
   "cell_type": "code",
   "execution_count": 40,
   "metadata": {},
   "outputs": [
    {
     "data": {
      "text/plain": [
       "array([0.4, 0.6])"
      ]
     },
     "execution_count": 40,
     "metadata": {},
     "output_type": "execute_result"
    }
   ],
   "source": [
    "def get_type_prob(customers_data, customer):\n",
    "    type_propability = np.array([])\n",
    "    for type in list(customers_data[customer].keys())[:-1]:\n",
    "        type_propability = np.append(type_propability, customers_data[customer][type]['probability'])\n",
    "    \n",
    "    return type_propability\n",
    "        \n",
    "\n",
    "get_type_prob(customers_data, 'delivery')"
   ]
  }
 ],
 "metadata": {
  "kernelspec": {
   "display_name": "Python 3",
   "language": "python",
   "name": "python3"
  },
  "language_info": {
   "codemirror_mode": {
    "name": "ipython",
    "version": 3
   },
   "file_extension": ".py",
   "mimetype": "text/x-python",
   "name": "python",
   "nbconvert_exporter": "python",
   "pygments_lexer": "ipython3",
   "version": "3.9.8"
  },
  "orig_nbformat": 4
 },
 "nbformat": 4,
 "nbformat_minor": 2
}
